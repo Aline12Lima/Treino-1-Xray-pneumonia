{
 "cells": [
  {
   "cell_type": "code",
   "execution_count": 1,
   "id": "b37aa176-1c1b-415e-ad1d-b7d2f627dd5a",
   "metadata": {},
   "outputs": [
    {
     "name": "stdout",
     "output_type": "stream",
     "text": [
      "Visualização dos dados carregados:\n",
      "   intensidade_media  intensidade_desvio_padrao  area_maxima  \\\n",
      "0         126.340317                  60.013281      38583.0   \n",
      "1         133.586044                  64.202061      50417.5   \n",
      "2         139.868347                  68.174833      52114.5   \n",
      "3         110.286789                  60.023551      38184.5   \n",
      "4         135.030472                  60.753934      50932.0   \n",
      "\n",
      "   perimetro_maximo  classe  \n",
      "0       1533.057999  NORMAL  \n",
      "1       1113.972651  NORMAL  \n",
      "2        989.060963  NORMAL  \n",
      "3       1894.118960  NORMAL  \n",
      "4       1108.156415  NORMAL  \n",
      "\n",
      "Dimensões do DataFrame (linhas, colunas): (5856, 5)\n"
     ]
    }
   ],
   "source": [
    "# Importa a biblioteca pandas, que organiza os dados em tabelas\n",
    "import pandas as pd\n",
    "\n",
    "# Define o nome do arquivo CSV que você criou\n",
    "nome_do_arquivo = 'caracteristicas_dataset.csv'\n",
    "\n",
    "# Carrega o arquivo CSV para um objeto chamado DataFrame\n",
    "# O DataFrame é como uma planilha do Excel\n",
    "df = pd.read_csv(nome_do_arquivo)\n",
    "\n",
    "# Exibe as primeiras 5 linhas da tabela para verificar se os dados foram lidos corretamente\n",
    "print(\"Visualização dos dados carregados:\")\n",
    "print(df.head())\n",
    "\n",
    "# Exibe as dimensões do DataFrame (linhas e colunas)\n",
    "print(\"\\nDimensões do DataFrame (linhas, colunas):\", df.shape)"
   ]
  },
  {
   "cell_type": "code",
   "execution_count": 2,
   "id": "70de8d48-4dd3-4d6d-82f6-5e36d00e646d",
   "metadata": {},
   "outputs": [
    {
     "name": "stdout",
     "output_type": "stream",
     "text": [
      "Previsões do Modelo:\n",
      "['PNEUMONIA' 'NORMAL' 'NORMAL' ... 'PNEUMONIA' 'PNEUMONIA' 'PNEUMONIA']\n",
      "\n",
      "Precisão do Modelo: 0.7738907849829352\n"
     ]
    }
   ],
   "source": [
    "# Separar features (X) e labels (y)\n",
    "X = df.drop('classe', axis=1)\n",
    "y = df['classe']\n",
    "\n",
    "# Dividir em treino e teste\n",
    "from sklearn.model_selection import train_test_split\n",
    "X_train, X_test, y_train, y_test = train_test_split(\n",
    "    X, y, test_size=0.2, random_state=42\n",
    ")\n",
    "\n",
    "# Criar e treinar o modelo (provavelmente RandomForest ou outro classificador)\n",
    "from sklearn.ensemble import RandomForestClassifier\n",
    "modelo = RandomForestClassifier(random_state=42)\n",
    "modelo.fit(X_train, y_train)\n",
    "\n",
    "# Fazer previsões\n",
    "y_pred = modelo.predict(X_test)\n",
    "\n",
    "# Mostrar resultados\n",
    "print(\"Previsões do Modelo:\")\n",
    "print(y_pred)\n",
    "\n",
    "# Avaliar precisão\n",
    "from sklearn.metrics import accuracy_score\n",
    "precisao = accuracy_score(y_test, y_pred)\n",
    "print(\"\\nPrecisão do Modelo:\", precisao)\n"
   ]
  },
  {
   "cell_type": "code",
   "execution_count": 6,
   "id": "f218928f-b0b8-4bae-a41d-ff75f56aa5ec",
   "metadata": {},
   "outputs": [
    {
     "name": "stdout",
     "output_type": "stream",
     "text": [
      "Previsões do Modelo:\n",
      "[1 1 1 ... 1 1 1]\n",
      "\n",
      "Resultados Reais do Teste:\n",
      "[1 1 1 ... 1 1 1]\n",
      "\n",
      "--- Relatório de Classificação ---\n",
      "              precision    recall  f1-score   support\n",
      "\n",
      "      NORMAL       0.00      0.00      0.00       317\n",
      "   PNEUMONIA       0.73      1.00      0.84       855\n",
      "\n",
      "    accuracy                           0.73      1172\n",
      "   macro avg       0.36      0.50      0.42      1172\n",
      "weighted avg       0.53      0.73      0.62      1172\n",
      "\n",
      "Precisão do Modelo: 0.73\n"
     ]
    },
    {
     "name": "stderr",
     "output_type": "stream",
     "text": [
      "/home/aline/.local/lib/python3.12/site-packages/sklearn/metrics/_classification.py:1731: UndefinedMetricWarning: Precision is ill-defined and being set to 0.0 in labels with no predicted samples. Use `zero_division` parameter to control this behavior.\n",
      "  _warn_prf(average, modifier, f\"{metric.capitalize()} is\", result.shape[0])\n",
      "/home/aline/.local/lib/python3.12/site-packages/sklearn/metrics/_classification.py:1731: UndefinedMetricWarning: Precision is ill-defined and being set to 0.0 in labels with no predicted samples. Use `zero_division` parameter to control this behavior.\n",
      "  _warn_prf(average, modifier, f\"{metric.capitalize()} is\", result.shape[0])\n",
      "/home/aline/.local/lib/python3.12/site-packages/sklearn/metrics/_classification.py:1731: UndefinedMetricWarning: Precision is ill-defined and being set to 0.0 in labels with no predicted samples. Use `zero_division` parameter to control this behavior.\n",
      "  _warn_prf(average, modifier, f\"{metric.capitalize()} is\", result.shape[0])\n"
     ]
    }
   ],
   "source": [
    "# Celula 3 modificada\n",
    "from sklearn.svm import SVC\n",
    "from sklearn.metrics import accuracy_score, classification_report\n",
    "import pandas as pd\n",
    "import numpy as np\n",
    "from sklearn.model_selection import train_test_split\n",
    "\n",
    "X = df.drop('classe', axis=1)\n",
    "y = df['classe'].map({'NORMAL': 0, 'PNEUMONIA': 1})\n",
    "\n",
    "X_treino, X_teste, y_treino, y_teste = train_test_split(\n",
    "    X, y, test_size=0.20, random_state=42, stratify=y\n",
    ")\n",
    "\n",
    "# Ajuste manual de pesos para reduzir FN da classe PNEUMONIA\n",
    "pesos = {0: 1, 1: 2}  # NORMAL:1, PNEUMONIA:2\n",
    "\n",
    "modelo = SVC(class_weight=pesos)\n",
    "modelo.fit(X_treino, y_treino)\n",
    "\n",
    "previsoes = modelo.predict(X_teste)\n",
    "\n",
    "precisao = accuracy_score(y_teste, previsoes)\n",
    "relatorio_classificacao = classification_report(y_teste, previsoes, target_names=['NORMAL', 'PNEUMONIA'])\n",
    "\n",
    "print(\"Previsões do Modelo:\")\n",
    "print(previsoes)\n",
    "print(\"\\nResultados Reais do Teste:\")\n",
    "print(y_teste.to_numpy())\n",
    "print(\"\\n--- Relatório de Classificação ---\")\n",
    "print(relatorio_classificacao)\n",
    "print(f\"Precisão do Modelo: {precisao:.2f}\")\n"
   ]
  },
  {
   "cell_type": "code",
   "execution_count": 7,
   "id": "2b766860-44fe-49fc-871d-6937b4d68039",
   "metadata": {},
   "outputs": [
    {
     "name": "stdout",
     "output_type": "stream",
     "text": [
      "Total de Falsos Positivos: 317\n",
      "Total de Falsos Negativos: 0\n",
      "\n",
      "Exemplo de Falsos Positivos:\n",
      "    real  previsto\n",
      "4      0         1\n",
      "5      0         1\n",
      "8      0         1\n",
      "13     0         1\n",
      "18     0         1\n",
      "\n",
      "Exemplo de Falsos Negativos:\n",
      "Empty DataFrame\n",
      "Columns: [real, previsto]\n",
      "Index: []\n"
     ]
    },
    {
     "data": {
      "image/png": "[encoded data removed]",
      "text/plain": [
       "<Figure size 640x480 with 2 Axes>"
      ]
     },
     "metadata": {},
     "output_type": "display_data"
    }
   ],
   "source": [
    "import pandas as pd\n",
    "from sklearn.metrics import confusion_matrix\n",
    "import seaborn as sns\n",
    "import matplotlib.pyplot as plt\n",
    "\n",
    "# 1. Criar DataFrame com resultados reais e previstos\n",
    "erros_df = pd.DataFrame({\n",
    "    'real': y_teste.to_numpy(),\n",
    "    'previsto': previsoes\n",
    "})\n",
    "\n",
    "# 2. Falsos Positivos (NORMAL previsto como PNEUMONIA)\n",
    "fp = erros_df[(erros_df['real'] == 0) & (erros_df['previsto'] == 1)]\n",
    "\n",
    "# 3. Falsos Negativos (PNEUMONIA previsto como NORMAL)\n",
    "fn = erros_df[(erros_df['real'] == 1) & (erros_df['previsto'] == 0)]\n",
    "\n",
    "print(f\"Total de Falsos Positivos: {len(fp)}\")\n",
    "print(f\"Total de Falsos Negativos: {len(fn)}\")\n",
    "\n",
    "# 4. Mostrar primeiras linhas de cada erro\n",
    "print(\"\\nExemplo de Falsos Positivos:\")\n",
    "print(fp.head())\n",
    "print(\"\\nExemplo de Falsos Negativos:\")\n",
    "print(fn.head())\n",
    "\n",
    "# 5. Matriz de Confusão\n",
    "cm = confusion_matrix(y_teste, previsoes)\n",
    "sns.heatmap(cm, annot=True, fmt='d', cmap='Blues', xticklabels=['NORMAL','PNEUMONIA'], yticklabels=['NORMAL','PNEUMONIA'])\n",
    "plt.xlabel('Previsto')\n",
    "plt.ylabel('Real')\n",
    "plt.title('Matriz de Confusão')\n",
    "plt.show()\n"
   ]
  },
  {
   "cell_type": "code",
   "execution_count": null,
   "id": "f798475c-ae56-460f-aa9b-780c59352eda",
   "metadata": {},
   "outputs": [],
   "source": []
  }
 ],
 "metadata": {
  "kernelspec": {
   "display_name": "Python 3 (ipykernel)",
   "language": "python",
   "name": "python3"
  },
  "language_info": {
   "codemirror_mode": {
    "name": "ipython",
    "version": 3
   },
   "file_extension": ".py",
   "mimetype": "text/x-python",
   "name": "python",
   "nbconvert_exporter": "python",
   "pygments_lexer": "ipython3",
   "version": "3.12.3"
  }
 },
 "nbformat": 4,
 "nbformat_minor": 5
}
